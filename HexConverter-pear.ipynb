{
 "cells": [
  {
   "cell_type": "code",
   "execution_count": 1,
   "metadata": {},
   "outputs": [
    {
     "name": "stderr",
     "output_type": "stream",
     "text": [
      "C:\\ProgramData\\Anaconda3\\lib\\site-packages\\pandas\\core\\computation\\expressions.py:20: UserWarning: Pandas requires version '2.7.3' or newer of 'numexpr' (version '2.7.1' currently installed).\n",
      "  from pandas.core.computation.check import NUMEXPR_INSTALLED\n"
     ]
    }
   ],
   "source": [
    "import pandas as pd\n",
    "import binascii"
   ]
  },
  {
   "cell_type": "code",
   "execution_count": 4,
   "metadata": {},
   "outputs": [],
   "source": [
    "\n",
    "outstring = []\n",
    "with open('pear/pear','rb') as f:\n",
    "#hexdata = f.read().hex()\n",
    "    tHex = f.read(1).hex()\n",
    "    index = 0\n",
    "    aline = []\n",
    "    while tHex:\n",
    "        if index%8==0 and index!=0:\n",
    "            index = 0\n",
    "            outstring.append(aline)\n",
    "            aline=[]\n",
    "            aline.append(int(tHex,base=16))\n",
    "            index +=1\n",
    "        else:\n",
    "            aline.append(int(tHex,base=16))\n",
    "            index +=1\n",
    "        tHex = f.read(1).hex()\n"
   ]
  },
  {
   "cell_type": "code",
   "execution_count": 5,
   "metadata": {},
   "outputs": [
    {
     "data": {
      "text/plain": [
       "[[72, 0, 0, 0, 72, 0, 0, 0],\n",
       " [72, 0, 0, 0, 72, 0, 0, 0],\n",
       " [72, 0, 0, 0, 72, 0, 0, 0],\n",
       " [72, 0, 0, 0, 72, 0, 0, 0],\n",
       " [72, 0, 0, 0, 72, 0, 0, 0],\n",
       " [72, 0, 0, 0, 72, 0, 0, 0],\n",
       " [72, 0, 0, 0, 72, 0, 0, 0],\n",
       " [72, 0, 0, 0, 72, 0, 0, 0],\n",
       " [72, 0, 0, 0, 72, 0, 0, 0],\n",
       " [72, 0, 0, 0, 72, 0, 0, 0]]"
      ]
     },
     "execution_count": 5,
     "metadata": {},
     "output_type": "execute_result"
    }
   ],
   "source": [
    "outstring[:10]"
   ]
  },
  {
   "cell_type": "code",
   "execution_count": 7,
   "metadata": {},
   "outputs": [
    {
     "data": {
      "text/plain": [
       "10099"
      ]
     },
     "execution_count": 7,
     "metadata": {},
     "output_type": "execute_result"
    }
   ],
   "source": [
    "len(outstring)"
   ]
  },
  {
   "cell_type": "code",
   "execution_count": 8,
   "metadata": {},
   "outputs": [],
   "source": [
    "df_outstring = pd.DataFrame(outstring)\n",
    "df_outstring.to_csv('pear/pear_output_v1.csv',index=False)"
   ]
  },
  {
   "cell_type": "code",
   "execution_count": 2,
   "metadata": {},
   "outputs": [
    {
     "data": {
      "text/html": [
       "<div>\n",
       "<style scoped>\n",
       "    .dataframe tbody tr th:only-of-type {\n",
       "        vertical-align: middle;\n",
       "    }\n",
       "\n",
       "    .dataframe tbody tr th {\n",
       "        vertical-align: top;\n",
       "    }\n",
       "\n",
       "    .dataframe thead th {\n",
       "        text-align: right;\n",
       "    }\n",
       "</style>\n",
       "<table border=\"1\" class=\"dataframe\">\n",
       "  <thead>\n",
       "    <tr style=\"text-align: right;\">\n",
       "      <th></th>\n",
       "      <th>0</th>\n",
       "      <th>1</th>\n",
       "      <th>2</th>\n",
       "      <th>3</th>\n",
       "      <th>4</th>\n",
       "      <th>5</th>\n",
       "      <th>6</th>\n",
       "      <th>7</th>\n",
       "    </tr>\n",
       "  </thead>\n",
       "  <tbody>\n",
       "    <tr>\n",
       "      <th>0</th>\n",
       "      <td>72</td>\n",
       "      <td>0</td>\n",
       "      <td>0</td>\n",
       "      <td>0</td>\n",
       "      <td>72</td>\n",
       "      <td>0</td>\n",
       "      <td>0</td>\n",
       "      <td>0</td>\n",
       "    </tr>\n",
       "    <tr>\n",
       "      <th>1</th>\n",
       "      <td>72</td>\n",
       "      <td>0</td>\n",
       "      <td>0</td>\n",
       "      <td>0</td>\n",
       "      <td>72</td>\n",
       "      <td>0</td>\n",
       "      <td>0</td>\n",
       "      <td>0</td>\n",
       "    </tr>\n",
       "    <tr>\n",
       "      <th>2</th>\n",
       "      <td>72</td>\n",
       "      <td>0</td>\n",
       "      <td>0</td>\n",
       "      <td>0</td>\n",
       "      <td>72</td>\n",
       "      <td>0</td>\n",
       "      <td>0</td>\n",
       "      <td>0</td>\n",
       "    </tr>\n",
       "    <tr>\n",
       "      <th>3</th>\n",
       "      <td>72</td>\n",
       "      <td>0</td>\n",
       "      <td>0</td>\n",
       "      <td>0</td>\n",
       "      <td>72</td>\n",
       "      <td>0</td>\n",
       "      <td>0</td>\n",
       "      <td>0</td>\n",
       "    </tr>\n",
       "    <tr>\n",
       "      <th>4</th>\n",
       "      <td>72</td>\n",
       "      <td>0</td>\n",
       "      <td>0</td>\n",
       "      <td>0</td>\n",
       "      <td>72</td>\n",
       "      <td>0</td>\n",
       "      <td>0</td>\n",
       "      <td>0</td>\n",
       "    </tr>\n",
       "  </tbody>\n",
       "</table>\n",
       "</div>"
      ],
      "text/plain": [
       "    0  1  2  3   4  5  6  7\n",
       "0  72  0  0  0  72  0  0  0\n",
       "1  72  0  0  0  72  0  0  0\n",
       "2  72  0  0  0  72  0  0  0\n",
       "3  72  0  0  0  72  0  0  0\n",
       "4  72  0  0  0  72  0  0  0"
      ]
     },
     "execution_count": 2,
     "metadata": {},
     "output_type": "execute_result"
    }
   ],
   "source": [
    "df_pear = pd.read_csv('pear/pear_output_v1.csv')\n",
    "df_pear.head()"
   ]
  },
  {
   "cell_type": "code",
   "execution_count": 3,
   "metadata": {},
   "outputs": [],
   "source": [
    "def computeTime(v):\n",
    "    if v[0]==72 and v[1]==v[2]==v[3]==0:\n",
    "        return 0\n",
    "    return v[0]+v[1]*256+v[2]*256*256+v[3]*256*256*256\n",
    "\n",
    "def computeIntensity(v):\n",
    "    if v[0]==72 and v[1]==v[2]==v[3]==0:\n",
    "        return 0\n",
    "    return v[0]+v[1]*256+v[2]*256*256+v[3]*256*256*256\n",
    "\n",
    "df_pear['time'] = df_pear[['0','1','2','3']].apply(lambda s: computeTime(s), axis=1)\n",
    "df_pear['intensity'] = df_pear[['4','5','6','7']].apply(lambda s: computeIntensity(s), axis=1)\n",
    "df_pear['check'] = df_pear[['0','1','2','3']].apply(lambda s: False if s[0] in [72,70] and s[1]==s[2]==s[3]==0 else True, axis=1)\n",
    "df_pear = df_pear[df_pear['check']][['time','intensity']]\n",
    "df_pear.to_csv('data/pear_final.csv',index=False)"
   ]
  },
  {
   "cell_type": "code",
   "execution_count": 11,
   "metadata": {},
   "outputs": [],
   "source": []
  },
  {
   "cell_type": "code",
   "execution_count": null,
   "metadata": {},
   "outputs": [],
   "source": []
  },
  {
   "cell_type": "code",
   "execution_count": null,
   "metadata": {},
   "outputs": [],
   "source": []
  },
  {
   "cell_type": "code",
   "execution_count": null,
   "metadata": {},
   "outputs": [],
   "source": []
  },
  {
   "cell_type": "code",
   "execution_count": null,
   "metadata": {},
   "outputs": [],
   "source": []
  },
  {
   "cell_type": "code",
   "execution_count": null,
   "metadata": {},
   "outputs": [],
   "source": []
  },
  {
   "cell_type": "code",
   "execution_count": null,
   "metadata": {},
   "outputs": [],
   "source": []
  },
  {
   "cell_type": "code",
   "execution_count": null,
   "metadata": {},
   "outputs": [],
   "source": []
  }
 ],
 "metadata": {
  "kernelspec": {
   "display_name": "Python 3",
   "language": "python",
   "name": "python3"
  },
  "language_info": {
   "codemirror_mode": {
    "name": "ipython",
    "version": 3
   },
   "file_extension": ".py",
   "mimetype": "text/x-python",
   "name": "python",
   "nbconvert_exporter": "python",
   "pygments_lexer": "ipython3",
   "version": "3.8.5"
  }
 },
 "nbformat": 4,
 "nbformat_minor": 5
}
