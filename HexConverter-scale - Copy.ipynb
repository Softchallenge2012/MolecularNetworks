{
 "cells": [
  {
   "cell_type": "code",
   "execution_count": 1,
   "metadata": {},
   "outputs": [
    {
     "name": "stderr",
     "output_type": "stream",
     "text": [
      "C:\\ProgramData\\Anaconda3\\lib\\site-packages\\pandas\\core\\computation\\expressions.py:20: UserWarning: Pandas requires version '2.7.3' or newer of 'numexpr' (version '2.7.1' currently installed).\n",
      "  from pandas.core.computation.check import NUMEXPR_INSTALLED\n"
     ]
    }
   ],
   "source": [
    "import pandas as pd"
   ]
  },
  {
   "cell_type": "code",
   "execution_count": 2,
   "metadata": {},
   "outputs": [],
   "source": [
    "\n",
    "outstring = []\n",
    "with open('scale/scale','rb') as f:\n",
    "#hexdata = f.read().hex()\n",
    "    tHex = f.read(1).hex()\n",
    "    index = 0\n",
    "    aline = []\n",
    "    while tHex:\n",
    "\n",
    "        if index%4==0 and index!=0:\n",
    "            index = 0\n",
    "            outstring.append(aline)\n",
    "            aline=[]\n",
    "            aline.append(int(tHex,base=16))\n",
    "            index +=1\n",
    "        else:\n",
    "            aline.append(int(tHex,base=16))\n",
    "            index +=1\n",
    "\n",
    "        tHex = f.read(1).hex()\n"
   ]
  },
  {
   "cell_type": "code",
   "execution_count": 3,
   "metadata": {},
   "outputs": [],
   "source": [
    "df_outstring = pd.DataFrame(outstring)\n",
    "df_outstring.to_csv('scale/scale_output_v1_4.csv',index=False)"
   ]
  },
  {
   "cell_type": "code",
   "execution_count": null,
   "metadata": {},
   "outputs": [],
   "source": []
  },
  {
   "cell_type": "code",
   "execution_count": 2,
   "metadata": {},
   "outputs": [
    {
     "data": {
      "text/html": [
       "<div>\n",
       "<style scoped>\n",
       "    .dataframe tbody tr th:only-of-type {\n",
       "        vertical-align: middle;\n",
       "    }\n",
       "\n",
       "    .dataframe tbody tr th {\n",
       "        vertical-align: top;\n",
       "    }\n",
       "\n",
       "    .dataframe thead th {\n",
       "        text-align: right;\n",
       "    }\n",
       "</style>\n",
       "<table border=\"1\" class=\"dataframe\">\n",
       "  <thead>\n",
       "    <tr style=\"text-align: right;\">\n",
       "      <th></th>\n",
       "      <th>0</th>\n",
       "      <th>1</th>\n",
       "      <th>2</th>\n",
       "      <th>3</th>\n",
       "    </tr>\n",
       "  </thead>\n",
       "  <tbody>\n",
       "    <tr>\n",
       "      <th>0</th>\n",
       "      <td>0</td>\n",
       "      <td>0</td>\n",
       "      <td>0</td>\n",
       "      <td>0</td>\n",
       "    </tr>\n",
       "    <tr>\n",
       "      <th>1</th>\n",
       "      <td>0</td>\n",
       "      <td>0</td>\n",
       "      <td>0</td>\n",
       "      <td>0</td>\n",
       "    </tr>\n",
       "    <tr>\n",
       "      <th>2</th>\n",
       "      <td>0</td>\n",
       "      <td>0</td>\n",
       "      <td>0</td>\n",
       "      <td>0</td>\n",
       "    </tr>\n",
       "    <tr>\n",
       "      <th>3</th>\n",
       "      <td>0</td>\n",
       "      <td>0</td>\n",
       "      <td>0</td>\n",
       "      <td>0</td>\n",
       "    </tr>\n",
       "    <tr>\n",
       "      <th>4</th>\n",
       "      <td>0</td>\n",
       "      <td>0</td>\n",
       "      <td>0</td>\n",
       "      <td>0</td>\n",
       "    </tr>\n",
       "  </tbody>\n",
       "</table>\n",
       "</div>"
      ],
      "text/plain": [
       "   0  1  2  3\n",
       "0  0  0  0  0\n",
       "1  0  0  0  0\n",
       "2  0  0  0  0\n",
       "3  0  0  0  0\n",
       "4  0  0  0  0"
      ]
     },
     "execution_count": 2,
     "metadata": {},
     "output_type": "execute_result"
    }
   ],
   "source": [
    "df_scale = pd.read_csv('scale/scale_output_v1_4.csv')\n",
    "df_scale.head()"
   ]
  },
  {
   "cell_type": "code",
   "execution_count": 83,
   "metadata": {},
   "outputs": [
    {
     "name": "stdout",
     "output_type": "stream",
     "text": [
      "12350\n"
     ]
    }
   ],
   "source": [
    "df_lines = []\n",
    "aline = []\n",
    "\n",
    "for k, v in df_scale.iterrows():    \n",
    "    aline.extend(v)\n",
    "    #split = [i for i in range(len(aline)-1) if (v[0]==v[1]==72 or v[2]==v[3]==72) and aline[i]==72 and aline[i+1]==72]\n",
    "    if v[0]==v[1]==72:\n",
    "        df_lines.append(aline[:-4])\n",
    "        aline = aline[-2:]\n",
    "    if v[2]==v[3]==72:\n",
    "        df_lines.append(aline[:-2])\n",
    "        aline = []\n",
    "\n",
    "if len(aline)>0:    \n",
    "    df_lines.append(aline)\n",
    "    \n",
    "df_lines = df_lines[1:]\n",
    "print(len(df_lines))"
   ]
  },
  {
   "cell_type": "code",
   "execution_count": 84,
   "metadata": {},
   "outputs": [
    {
     "name": "stdout",
     "output_type": "stream",
     "text": [
      "12345\n"
     ]
    }
   ],
   "source": [
    "df_combine = []\n",
    "skip = False\n",
    "for i in range(1, len(df_lines), 1):\n",
    "    try:\n",
    "        if len(df_lines[i-1])<92:\n",
    "            aline = df_lines[i-1]\n",
    "            aline.extend([72,72])\n",
    "            aline.extend(df_lines[i])\n",
    "            df_lines[i] = aline\n",
    "        else:\n",
    "            df_combine.append(df_lines[i-1])\n",
    "    except:\n",
    "        print(i)\n",
    "df_combine.append(df_lines[-1])\n",
    "print(len(df_combine))"
   ]
  },
  {
   "cell_type": "code",
   "execution_count": 85,
   "metadata": {},
   "outputs": [],
   "source": [
    "df_lines = pd.DataFrame(df_combine)\n",
    "df_lines = df_lines.fillna(value=0)\n",
    "\n",
    "df_lines.to_csv('scale/scale_output_v1_4_results.csv', index=False)"
   ]
  },
  {
   "cell_type": "code",
   "execution_count": 2,
   "metadata": {},
   "outputs": [],
   "source": [
    "df_scale23 = pd.read_csv('scale/scale_output_v1_4_results.csv')"
   ]
  },
  {
   "cell_type": "code",
   "execution_count": 49,
   "metadata": {},
   "outputs": [],
   "source": [
    "def computeTime(s0,s1):\n",
    "    time = [int(s) for s in s0.split(',')]\n",
    "    time_shift = [int(s) for s in s1.split(',')]\n",
    "    for i in range(0, 3, 1):\n",
    "        if time_shift[i] < time[i] or time_shift[i]<0:\n",
    "            time_shift[i] = time_shift[i] + 256\n",
    "            time_shift[i+1] = time_shift[i+1] -1\n",
    "    diff = [(t_shift-t) for t, t_shift in zip(time, time_shift)]\n",
    "    diff = sum([diff[d]*256**d for d in range(4)])\n",
    "    #diff = s1-s0\n",
    "    if time_shift[2] < 128:\n",
    "        diff = (diff) / 2**((64-time_shift[3]+1)*2-1)\n",
    "    else:\n",
    "        diff = (diff ) / 2**((64-time_shift[3]+1)*2-2)\n",
    "        \n",
    "        \n",
    "    divider = abs((time[2]+(time[3]-64)*256)//128-1)\n",
    "    increase = diff #sum([diff[d]*256**d for d in range(4)])\n",
    "    return increase/(839)#*(divider+1)) #','.join([str(d) for d in diff])+','+str(increase)+','+str(divider)\n",
    "\n",
    "df_scale23['combine'] = df_scale23[['0','1','2','3']].apply(lambda s:','.join([str(t) for t in s]),axis=1)\n",
    "df_scale23['shift'] = df_scale23['combine'].shift(-1)\n",
    "df_scale23 = df_scale23.fillna(value='0,0,0,0')\n",
    "df_scale23['diff'] = df_scale23[['combine','shift']].apply(lambda s: computeTime(s[0],s[1]),axis=1)\n"
   ]
  },
  {
   "cell_type": "code",
   "execution_count": 50,
   "metadata": {},
   "outputs": [],
   "source": [
    "\n",
    "df_scale23['time_diff'] = df_scale23['diff'].apply(lambda s: 1 if s < 0.9 else s)\n",
    "timelist = df_scale23['time_diff'].tolist()\n",
    "timelist = timelist[::-1]\n",
    "timelist[0]=5\n",
    "for i in range(1, len(timelist),1):\n",
    "    timelist[i] = timelist[i-1] - round(timelist[i]*0.0004,4)\n",
    "df_scale23['time'] = timelist[::-1]"
   ]
  },
  {
   "cell_type": "code",
   "execution_count": null,
   "metadata": {},
   "outputs": [],
   "source": []
  },
  {
   "cell_type": "code",
   "execution_count": null,
   "metadata": {},
   "outputs": [],
   "source": []
  },
  {
   "cell_type": "code",
   "execution_count": null,
   "metadata": {},
   "outputs": [],
   "source": []
  },
  {
   "cell_type": "code",
   "execution_count": null,
   "metadata": {},
   "outputs": [],
   "source": []
  },
  {
   "cell_type": "code",
   "execution_count": null,
   "metadata": {},
   "outputs": [],
   "source": []
  },
  {
   "cell_type": "code",
   "execution_count": 45,
   "metadata": {},
   "outputs": [],
   "source": [
    "def computeTime(s0,s1,s2,s3):\n",
    "    time = [int(s) for s in s0.split(',')]\n",
    "    time_shift = [int(s) for s in s1.split(',')]\n",
    "    s0 = sum([time[d]*256**d for d in range(4)])\n",
    "    s1 = sum([time_shift[d]*256**d for d in range(4)])\n",
    "    diff = s1-s0\n",
    "    if s2 < 128:\n",
    "        diff = (diff) / 2**((64-s3+1)*2-1)\n",
    "    else:\n",
    "        diff = (diff ) / 2**((64-s3+1)*2-2)\n",
    "    return round(diff/839,1)\n",
    "\n",
    "#df_scale23['time'] = df_scale23[['0','1','2','3']].apply(lambda s:s[0]+s[1]*256+s[2]*256*256+s[3]*256*256*256, axis=1)\n",
    "df_scale23['time'] = df_scale23[['0','1','2','3']].apply(lambda s:','.join([str(t) for t in s]), axis=1)\n",
    "df_scale23['time_shift'] = df_scale23['time'].shift(-1)\n",
    "df_scale23 = df_scale23.fillna(value='0,0,0,0')\n",
    "#df_scale23['time_diff'] = df_scale23[['time','time_shift','2','3']].apply(lambda s: computeTime(s[0],s[1],s[2],s[3]),axis=1)\n",
    "df_scale23['time_diff'] = df_scale23[['time','time_shift','2','3']].apply(lambda s: computeTime(s[0],s[1],s[2],s[3]),axis=1)"
   ]
  },
  {
   "cell_type": "code",
   "execution_count": 48,
   "metadata": {},
   "outputs": [],
   "source": [
    "df_scale23['time_diff'] = df_scale23['time_diff'].apply(lambda s: 1 if s < 0.9 else s)\n",
    "timelist = df_scale23['time_diff'].tolist()\n",
    "timelist = timelist[::-1]\n",
    "timelist[0]=5\n",
    "for i in range(1, len(timelist),1):\n",
    "    timelist[i] = timelist[i-1] - round(timelist[i]*0.0004,4)\n",
    "df_scale23['time'] = timelist[::-1]\n",
    "\n",
    "df_scale23.to_csv('scale/scale_output_v1_4_time.csv',index=False)   "
   ]
  },
  {
   "cell_type": "code",
   "execution_count": 51,
   "metadata": {},
   "outputs": [],
   "source": [
    "df_scale23.to_csv('scale/scale_output_v1_4_time.csv',index=False)"
   ]
  },
  {
   "cell_type": "code",
   "execution_count": null,
   "metadata": {},
   "outputs": [],
   "source": []
  },
  {
   "cell_type": "code",
   "execution_count": 13,
   "metadata": {},
   "outputs": [],
   "source": [
    "def computePositive(s):\n",
    "    r = sum([s[i]*256**(3-i) for i in range(4)])/20\n",
    "    return r\n",
    "def computeDim(s):\n",
    "    c = [255,255,255,256]\n",
    "    sign = 1\n",
    "    if s[0]>=220:\n",
    "        s = [c[i]-s[i] for i in range(4)]\n",
    "        sign = -1\n",
    "    \n",
    "    r = computePositive(s)*sign\n",
    "    return r\n",
    "for i in range(1, 23):\n",
    "    #df_scale.append(df_scale23[[str(i*4+t) for t in range(4)]].apply(computeDim, axis=1) )\n",
    "    df_scale23[str(i*10+180)] = df_scale23[[str(i*4+t) for t in range(4)]].apply(computeDim, axis=1) \n"
   ]
  },
  {
   "cell_type": "code",
   "execution_count": 18,
   "metadata": {},
   "outputs": [
    {
     "name": "stderr",
     "output_type": "stream",
     "text": [
      "<ipython-input-18-f87636bbf714>:2: SettingWithCopyWarning: \n",
      "A value is trying to be set on a copy of a slice from a DataFrame.\n",
      "Try using .loc[row_indexer,col_indexer] = value instead\n",
      "\n",
      "See the caveats in the documentation: https://pandas.pydata.org/pandas-docs/stable/user_guide/indexing.html#returning-a-view-versus-a-copy\n",
      "  df_scale['time'] = df_scale23['diff'].tolist()\n",
      "<ipython-input-18-f87636bbf714>:3: SettingWithCopyWarning: \n",
      "A value is trying to be set on a copy of a slice from a DataFrame.\n",
      "Try using .loc[row_indexer,col_indexer] = value instead\n",
      "\n",
      "See the caveats in the documentation: https://pandas.pydata.org/pandas-docs/stable/user_guide/indexing.html#returning-a-view-versus-a-copy\n",
      "  df_scale['time'] = df_scale['time'].apply(lambda s: s*1.0/60000)\n"
     ]
    },
    {
     "data": {
      "text/html": [
       "<div>\n",
       "<style scoped>\n",
       "    .dataframe tbody tr th:only-of-type {\n",
       "        vertical-align: middle;\n",
       "    }\n",
       "\n",
       "    .dataframe tbody tr th {\n",
       "        vertical-align: top;\n",
       "    }\n",
       "\n",
       "    .dataframe thead th {\n",
       "        text-align: right;\n",
       "    }\n",
       "</style>\n",
       "<table border=\"1\" class=\"dataframe\">\n",
       "  <thead>\n",
       "    <tr style=\"text-align: right;\">\n",
       "      <th></th>\n",
       "      <th>190</th>\n",
       "      <th>200</th>\n",
       "      <th>210</th>\n",
       "      <th>220</th>\n",
       "      <th>230</th>\n",
       "      <th>240</th>\n",
       "      <th>250</th>\n",
       "      <th>260</th>\n",
       "      <th>270</th>\n",
       "      <th>280</th>\n",
       "      <th>...</th>\n",
       "      <th>320</th>\n",
       "      <th>330</th>\n",
       "      <th>340</th>\n",
       "      <th>350</th>\n",
       "      <th>360</th>\n",
       "      <th>370</th>\n",
       "      <th>380</th>\n",
       "      <th>390</th>\n",
       "      <th>400</th>\n",
       "      <th>time</th>\n",
       "    </tr>\n",
       "  </thead>\n",
       "  <tbody>\n",
       "    <tr>\n",
       "      <th>0</th>\n",
       "      <td>78.0</td>\n",
       "      <td>0.0</td>\n",
       "      <td>70.0</td>\n",
       "      <td>83.0</td>\n",
       "      <td>-2.0</td>\n",
       "      <td>1.0</td>\n",
       "      <td>15.0</td>\n",
       "      <td>0.0</td>\n",
       "      <td>0.0</td>\n",
       "      <td>50.0</td>\n",
       "      <td>...</td>\n",
       "      <td>-2.0</td>\n",
       "      <td>0.0</td>\n",
       "      <td>13.0</td>\n",
       "      <td>1.0</td>\n",
       "      <td>-1.0</td>\n",
       "      <td>1.0</td>\n",
       "      <td>39.0</td>\n",
       "      <td>0.0</td>\n",
       "      <td>-1.0</td>\n",
       "      <td>19.269869</td>\n",
       "    </tr>\n",
       "    <tr>\n",
       "      <th>1</th>\n",
       "      <td>78.0</td>\n",
       "      <td>1.0</td>\n",
       "      <td>70.0</td>\n",
       "      <td>83.0</td>\n",
       "      <td>0.0</td>\n",
       "      <td>0.0</td>\n",
       "      <td>17.0</td>\n",
       "      <td>-1.0</td>\n",
       "      <td>1.0</td>\n",
       "      <td>50.0</td>\n",
       "      <td>...</td>\n",
       "      <td>-1.0</td>\n",
       "      <td>-1.0</td>\n",
       "      <td>12.0</td>\n",
       "      <td>0.0</td>\n",
       "      <td>1.0</td>\n",
       "      <td>0.0</td>\n",
       "      <td>39.0</td>\n",
       "      <td>3.0</td>\n",
       "      <td>1.0</td>\n",
       "      <td>0.166639</td>\n",
       "    </tr>\n",
       "    <tr>\n",
       "      <th>2</th>\n",
       "      <td>80.0</td>\n",
       "      <td>0.0</td>\n",
       "      <td>69.0</td>\n",
       "      <td>83.0</td>\n",
       "      <td>-1.0</td>\n",
       "      <td>1.0</td>\n",
       "      <td>17.0</td>\n",
       "      <td>-1.0</td>\n",
       "      <td>0.0</td>\n",
       "      <td>52.0</td>\n",
       "      <td>...</td>\n",
       "      <td>0.0</td>\n",
       "      <td>1.0</td>\n",
       "      <td>12.0</td>\n",
       "      <td>1.0</td>\n",
       "      <td>1.0</td>\n",
       "      <td>1.0</td>\n",
       "      <td>38.0</td>\n",
       "      <td>3.0</td>\n",
       "      <td>-2.0</td>\n",
       "      <td>0.098384</td>\n",
       "    </tr>\n",
       "    <tr>\n",
       "      <th>3</th>\n",
       "      <td>81.0</td>\n",
       "      <td>1.0</td>\n",
       "      <td>71.0</td>\n",
       "      <td>82.0</td>\n",
       "      <td>0.0</td>\n",
       "      <td>-1.0</td>\n",
       "      <td>14.0</td>\n",
       "      <td>1.0</td>\n",
       "      <td>-1.0</td>\n",
       "      <td>51.0</td>\n",
       "      <td>...</td>\n",
       "      <td>-2.0</td>\n",
       "      <td>-1.0</td>\n",
       "      <td>12.0</td>\n",
       "      <td>0.0</td>\n",
       "      <td>-1.0</td>\n",
       "      <td>0.0</td>\n",
       "      <td>39.0</td>\n",
       "      <td>2.0</td>\n",
       "      <td>-2.0</td>\n",
       "      <td>0.068255</td>\n",
       "    </tr>\n",
       "    <tr>\n",
       "      <th>4</th>\n",
       "      <td>79.0</td>\n",
       "      <td>0.0</td>\n",
       "      <td>68.0</td>\n",
       "      <td>84.0</td>\n",
       "      <td>1.0</td>\n",
       "      <td>0.0</td>\n",
       "      <td>16.0</td>\n",
       "      <td>-1.0</td>\n",
       "      <td>1.0</td>\n",
       "      <td>50.0</td>\n",
       "      <td>...</td>\n",
       "      <td>-1.0</td>\n",
       "      <td>1.0</td>\n",
       "      <td>13.0</td>\n",
       "      <td>1.0</td>\n",
       "      <td>0.0</td>\n",
       "      <td>1.0</td>\n",
       "      <td>39.0</td>\n",
       "      <td>3.0</td>\n",
       "      <td>1.0</td>\n",
       "      <td>0.064256</td>\n",
       "    </tr>\n",
       "  </tbody>\n",
       "</table>\n",
       "<p>5 rows × 23 columns</p>\n",
       "</div>"
      ],
      "text/plain": [
       "    190  200   210   220  230  240   250  260  270   280  ...  320  330   340   \n",
       "0  78.0  0.0  70.0  83.0 -2.0  1.0  15.0  0.0  0.0  50.0  ... -2.0  0.0  13.0  \\\n",
       "1  78.0  1.0  70.0  83.0  0.0  0.0  17.0 -1.0  1.0  50.0  ... -1.0 -1.0  12.0   \n",
       "2  80.0  0.0  69.0  83.0 -1.0  1.0  17.0 -1.0  0.0  52.0  ...  0.0  1.0  12.0   \n",
       "3  81.0  1.0  71.0  82.0  0.0 -1.0  14.0  1.0 -1.0  51.0  ... -2.0 -1.0  12.0   \n",
       "4  79.0  0.0  68.0  84.0  1.0  0.0  16.0 -1.0  1.0  50.0  ... -1.0  1.0  13.0   \n",
       "\n",
       "   350  360  370   380  390  400       time  \n",
       "0  1.0 -1.0  1.0  39.0  0.0 -1.0  19.269869  \n",
       "1  0.0  1.0  0.0  39.0  3.0  1.0   0.166639  \n",
       "2  1.0  1.0  1.0  38.0  3.0 -2.0   0.098384  \n",
       "3  0.0 -1.0  0.0  39.0  2.0 -2.0   0.068255  \n",
       "4  1.0  0.0  1.0  39.0  3.0  1.0   0.064256  \n",
       "\n",
       "[5 rows x 23 columns]"
      ]
     },
     "execution_count": 18,
     "metadata": {},
     "output_type": "execute_result"
    }
   ],
   "source": [
    "df_scale = df_scale23[[str(i*10+180) for i in range(1,23)] ]\n",
    "df_scale['time'] = df_scale23['diff'].tolist()\n",
    "df_scale['time'] = df_scale['time'].apply(lambda s: s*1.0/60000)\n",
    "df_scale.head()"
   ]
  },
  {
   "cell_type": "code",
   "execution_count": 38,
   "metadata": {},
   "outputs": [],
   "source": [
    "df_scale.to_csv('scale/scale_output_v1_4_time.csv',index=False)   "
   ]
  },
  {
   "cell_type": "code",
   "execution_count": null,
   "metadata": {},
   "outputs": [],
   "source": []
  },
  {
   "cell_type": "code",
   "execution_count": null,
   "metadata": {},
   "outputs": [],
   "source": []
  },
  {
   "cell_type": "code",
   "execution_count": null,
   "metadata": {},
   "outputs": [],
   "source": []
  },
  {
   "cell_type": "code",
   "execution_count": null,
   "metadata": {},
   "outputs": [],
   "source": []
  },
  {
   "cell_type": "code",
   "execution_count": null,
   "metadata": {},
   "outputs": [],
   "source": []
  },
  {
   "cell_type": "code",
   "execution_count": null,
   "metadata": {},
   "outputs": [],
   "source": []
  },
  {
   "cell_type": "code",
   "execution_count": null,
   "metadata": {},
   "outputs": [],
   "source": []
  },
  {
   "cell_type": "code",
   "execution_count": 45,
   "metadata": {},
   "outputs": [],
   "source": [
    "def computeTime(s0,s1,s2,s3):\n",
    "    time = [int(s) for s in s0.split(',')]\n",
    "    time_shift = [int(s) for s in s1.split(',')]\n",
    "    s0 = sum([time[d]*256**d for d in range(4)])\n",
    "    s1 = sum([time_shift[d]*256**d for d in range(4)])\n",
    "    diff = s1-s0\n",
    "    if s2 < 128:\n",
    "        diff = (diff) / 2**((64-s3+1)*2-1)\n",
    "    else:\n",
    "        diff = (diff ) / 2**((64-s3+1)*2-2)\n",
    "    return round(diff/839,1)\n",
    "\n",
    "#df_scale23['time'] = df_scale23[['0','1','2','3']].apply(lambda s:s[0]+s[1]*256+s[2]*256*256+s[3]*256*256*256, axis=1)\n",
    "df_scale23['time'] = df_scale23[['0','1','2','3']].apply(lambda s:','.join([str(t) for t in s]), axis=1)\n",
    "df_scale23['time_shift'] = df_scale23['time'].shift(-1)\n",
    "df_scale23 = df_scale23.fillna(value='0,0,0,0')\n",
    "#df_scale23['time_diff'] = df_scale23[['time','time_shift','2','3']].apply(lambda s: computeTime(s[0],s[1],s[2],s[3]),axis=1)\n",
    "df_scale23['time_diff'] = df_scale23[['time','time_shift','2','3']].apply(lambda s: computeTime(s[0],s[1],s[2],s[3]),axis=1)"
   ]
  },
  {
   "cell_type": "code",
   "execution_count": 48,
   "metadata": {},
   "outputs": [],
   "source": [
    "df_scale23['time_diff'] = df_scale23['time_diff'].apply(lambda s: 1 if s < 0.9 else s)\n",
    "timelist = df_scale23['time_diff'].tolist()\n",
    "timelist = timelist[::-1]\n",
    "timelist[0]=5\n",
    "for i in range(1, len(timelist),1):\n",
    "    timelist[i] = timelist[i-1] - round(timelist[i]*0.0004,4)\n",
    "df_scale23['time'] = timelist[::-1]\n",
    "\n",
    "df_scale23.to_csv('scale/scale_output_v1_4_time.csv',index=False)   "
   ]
  },
  {
   "cell_type": "code",
   "execution_count": null,
   "metadata": {},
   "outputs": [],
   "source": []
  },
  {
   "cell_type": "code",
   "execution_count": null,
   "metadata": {},
   "outputs": [],
   "source": []
  },
  {
   "cell_type": "code",
   "execution_count": null,
   "metadata": {},
   "outputs": [],
   "source": []
  },
  {
   "cell_type": "code",
   "execution_count": 81,
   "metadata": {},
   "outputs": [
    {
     "data": {
      "image/png": "[encoded data removed]",
      "text/plain": [
       "<Figure size 1440x576 with 2 Axes>"
      ]
     },
     "metadata": {},
     "output_type": "display_data"
    }
   ],
   "source": [
    "\n",
    "import numpy as np\n",
    "\n",
    "import matplotlib.pyplot as plt\n",
    "\n",
    "import math\n",
    "\n",
    "from numpy.fft import fft\n",
    "\n",
    "\n",
    "def gen_wave (freq, amp, T, sr):\n",
    "\n",
    "    time = np.arange(0,T,1/sr)\n",
    "    \n",
    "    X = amp*np.sin(2*np.pi*freq*time)\n",
    "    \n",
    "    return time,X\n",
    "\n",
    "\n",
    "plt.style.use(\"seaborn\")\n",
    "plt.rcParams[\"xtick.labelsize\"] = 14\n",
    "plt.rcParams[\"ytick.labelsize\"] = 14\n",
    "\n",
    "f, axarr = plt.subplots(2, figsize=(20, 8))\n",
    "\n",
    "sr=50 #in Hz\n",
    "\n",
    "# x,y   = gen_wave(3,2,1,sr)\n",
    "# x,y2   = gen_wave(5,3,1,sr)\n",
    "\n",
    "# y = y + y2\n",
    "\n",
    "# axarr[0].plot(x, y)\n",
    "yy = df_scale['0']\n",
    "n = len(yy) \n",
    "p = fft(yy) # take the fourier transform \n",
    "\n",
    "mag = np.sqrt(p.real**2 + p.imag**2)\n",
    "\n",
    "mag = mag * 2 / n\n",
    "\n",
    "mag = mag[0:math.ceil((n)/2.0)]\n",
    "\n",
    "x = np.arange(0, len(mag), 1.0) * (sr / n)\n",
    "\n",
    "axarr[1].bar(x, mag, color='b')\n",
    "axarr[1].xaxis.set_ticks(np.arange(min(x), max(x)+1, 1.0))\n",
    "\n",
    "plt.show()\n"
   ]
  },
  {
   "cell_type": "code",
   "execution_count": 82,
   "metadata": {},
   "outputs": [
    {
     "data": {
      "text/plain": [
       "[0, 1, 2, 3, 4, 5, 6, 7, 8, 9, 10, 11, 12, 13, 15, 603]"
      ]
     },
     "execution_count": 82,
     "metadata": {},
     "output_type": "execute_result"
    }
   ],
   "source": [
    "mag_int = [int(m) for m in mag]\n",
    "\n",
    "sorted([m for k,m in enumerate(mag_int) if not m in mag_int[:k]])"
   ]
  },
  {
   "cell_type": "code",
   "execution_count": 83,
   "metadata": {},
   "outputs": [
    {
     "data": {
      "text/plain": [
       "(array([6.03542234e+02, 1.59809026e+01, 1.52670061e+01, ...,\n",
       "        1.25876211e+00, 9.78243752e-01, 2.81933277e-01]),\n",
       " 1835)"
      ]
     },
     "execution_count": 83,
     "metadata": {},
     "output_type": "execute_result"
    }
   ],
   "source": [
    "yy = df_scale['0'].tolist()\n",
    "\n",
    "sr=50 #in Hz\n",
    "\n",
    "n = len(yy) \n",
    "p = fft(yy) # take the fourier transform \n",
    "\n",
    "mag = np.sqrt(p.real**2 + p.imag**2)\n",
    "\n",
    "mag = mag * 2 / n\n",
    "\n",
    "mag = mag[0:math.ceil((n)/2.0)]\n",
    "mag, len(mag)"
   ]
  },
  {
   "cell_type": "code",
   "execution_count": null,
   "metadata": {},
   "outputs": [],
   "source": []
  },
  {
   "cell_type": "code",
   "execution_count": null,
   "metadata": {},
   "outputs": [],
   "source": []
  },
  {
   "cell_type": "code",
   "execution_count": null,
   "metadata": {},
   "outputs": [],
   "source": []
  },
  {
   "cell_type": "code",
   "execution_count": 59,
   "metadata": {},
   "outputs": [
    {
     "data": {
      "image/png": "[encoded data removed]",
      "text/plain": [
       "<Figure size 1440x576 with 2 Axes>"
      ]
     },
     "metadata": {},
     "output_type": "display_data"
    }
   ],
   "source": [
    "\"\"\"\n",
    "(C) 2018 Nikolay Manchev\n",
    "\n",
    "This work is licensed under the Creative Commons Attribution 4.0 International\n",
    "License. To view a copy of this license, visit http://creativecommons.org/licenses/by/4.0/.\n",
    "\"\"\"\n",
    "\n",
    "\n",
    "import numpy as np\n",
    "\n",
    "import matplotlib.pyplot as plt\n",
    "\n",
    "import math\n",
    "\n",
    "from numpy.fft import fft\n",
    "\n",
    "\n",
    "def gen_wave (freq, amp, T, sr):\n",
    "\n",
    "    time = np.arange(0,T,1/sr)\n",
    "    \n",
    "    X = amp*np.sin(2*np.pi*freq*time)\n",
    "    \n",
    "    return time,X\n",
    "\n",
    "\n",
    "plt.style.use(\"seaborn\")\n",
    "plt.rcParams[\"xtick.labelsize\"] = 14\n",
    "plt.rcParams[\"ytick.labelsize\"] = 14\n",
    "\n",
    "f, axarr = plt.subplots(2, figsize=(20, 8))\n",
    "\n",
    "sr=50 #in Hz\n",
    "\n",
    "x,y   = gen_wave(3,2,1,sr)\n",
    "x,y2   = gen_wave(5,3,1,sr)\n",
    "\n",
    "y = y + y2\n",
    "\n",
    "axarr[0].plot(x, y)\n",
    "\n",
    "n = len(y) \n",
    "p = fft(y) # take the fourier transform \n",
    "\n",
    "mag = np.sqrt(p.real**2 + p.imag**2)\n",
    "\n",
    "mag = mag * 2 / n\n",
    "\n",
    "mag = mag[0:math.ceil((n)/2.0)]\n",
    "\n",
    "x = np.arange(0, len(mag), 1.0) * (sr / n)\n",
    "\n",
    "axarr[1].bar(x, mag, color='b')\n",
    "axarr[1].xaxis.set_ticks(np.arange(min(x), max(x)+1, 1.0))\n",
    "\n",
    "plt.show()\n",
    "\n",
    "\n",
    "\n",
    "\n",
    "\n"
   ]
  },
  {
   "cell_type": "code",
   "execution_count": null,
   "metadata": {},
   "outputs": [],
   "source": []
  },
  {
   "cell_type": "code",
   "execution_count": null,
   "metadata": {},
   "outputs": [],
   "source": []
  },
  {
   "cell_type": "code",
   "execution_count": null,
   "metadata": {},
   "outputs": [],
   "source": []
  },
  {
   "cell_type": "code",
   "execution_count": null,
   "metadata": {},
   "outputs": [],
   "source": []
  },
  {
   "cell_type": "code",
   "execution_count": null,
   "metadata": {},
   "outputs": [],
   "source": []
  },
  {
   "cell_type": "code",
   "execution_count": null,
   "metadata": {},
   "outputs": [],
   "source": []
  }
 ],
 "metadata": {
  "kernelspec": {
   "display_name": "Python 3",
   "language": "python",
   "name": "python3"
  },
  "language_info": {
   "codemirror_mode": {
    "name": "ipython",
    "version": 3
   },
   "file_extension": ".py",
   "mimetype": "text/x-python",
   "name": "python",
   "nbconvert_exporter": "python",
   "pygments_lexer": "ipython3",
   "version": "3.8.5"
  }
 },
 "nbformat": 4,
 "nbformat_minor": 5
}
